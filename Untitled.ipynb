{
 "cells": [
  {
   "cell_type": "code",
   "execution_count": 65,
   "metadata": {
    "collapsed": false
   },
   "outputs": [
    {
     "name": "stdout",
     "output_type": "stream",
     "text": [
      "Populating the interactive namespace from numpy and matplotlib\n"
     ]
    }
   ],
   "source": [
    "import pandas as pd\n",
    "import numpy as np\n",
    "import datetime as dt\n",
    "import dateutil\n",
    "import os as os\n",
    "%pylab inline"
   ]
  },
  {
   "cell_type": "code",
   "execution_count": 4,
   "metadata": {
    "collapsed": true
   },
   "outputs": [],
   "source": [
    "df = pd.read_csv('../data/vix_data/fut/2007_1', index_col='Unnamed: 0')"
   ]
  },
  {
   "cell_type": "code",
   "execution_count": 16,
   "metadata": {
    "collapsed": false
   },
   "outputs": [
    {
     "data": {
      "text/plain": [
       "3"
      ]
     },
     "execution_count": 16,
     "metadata": {},
     "output_type": "execute_result"
    }
   ],
   "source": [
    "dt.datetime.strptime( df.index[10] ,'%Y-%m-%d').day"
   ]
  },
  {
   "cell_type": "code",
   "execution_count": 18,
   "metadata": {
    "collapsed": false
   },
   "outputs": [],
   "source": [
    "fut_files = os.listdir('../data/vix_data/fut/')"
   ]
  },
  {
   "cell_type": "code",
   "execution_count": 25,
   "metadata": {
    "collapsed": false
   },
   "outputs": [
    {
     "data": {
      "text/html": [
       "<div>\n",
       "<table border=\"1\" class=\"dataframe\">\n",
       "  <thead>\n",
       "    <tr style=\"text-align: right;\">\n",
       "      <th></th>\n",
       "      <th>Change</th>\n",
       "      <th>Close</th>\n",
       "      <th>EFP</th>\n",
       "      <th>High</th>\n",
       "      <th>Low</th>\n",
       "      <th>Open</th>\n",
       "      <th>Open Interest</th>\n",
       "      <th>Settle</th>\n",
       "      <th>Total Volume</th>\n",
       "    </tr>\n",
       "  </thead>\n",
       "  <tbody>\n",
       "    <tr>\n",
       "      <th>2006-10-20</th>\n",
       "      <td>0.00</td>\n",
       "      <td>0.0</td>\n",
       "      <td>0.0</td>\n",
       "      <td>0.0</td>\n",
       "      <td>0.0</td>\n",
       "      <td>0.0</td>\n",
       "      <td>0.0</td>\n",
       "      <td>0.00</td>\n",
       "      <td>0.0</td>\n",
       "    </tr>\n",
       "    <tr>\n",
       "      <th>2006-10-23</th>\n",
       "      <td>140.80</td>\n",
       "      <td>0.0</td>\n",
       "      <td>0.0</td>\n",
       "      <td>0.0</td>\n",
       "      <td>0.0</td>\n",
       "      <td>0.0</td>\n",
       "      <td>0.0</td>\n",
       "      <td>140.80</td>\n",
       "      <td>0.0</td>\n",
       "    </tr>\n",
       "    <tr>\n",
       "      <th>2006-10-24</th>\n",
       "      <td>-0.50</td>\n",
       "      <td>140.6</td>\n",
       "      <td>0.0</td>\n",
       "      <td>141.0</td>\n",
       "      <td>140.6</td>\n",
       "      <td>141.0</td>\n",
       "      <td>4.0</td>\n",
       "      <td>140.30</td>\n",
       "      <td>4.0</td>\n",
       "    </tr>\n",
       "    <tr>\n",
       "      <th>2006-10-25</th>\n",
       "      <td>-2.40</td>\n",
       "      <td>137.4</td>\n",
       "      <td>0.0</td>\n",
       "      <td>139.0</td>\n",
       "      <td>137.4</td>\n",
       "      <td>139.0</td>\n",
       "      <td>25.0</td>\n",
       "      <td>137.90</td>\n",
       "      <td>22.0</td>\n",
       "    </tr>\n",
       "    <tr>\n",
       "      <th>2006-10-26</th>\n",
       "      <td>-3.30</td>\n",
       "      <td>135.0</td>\n",
       "      <td>0.0</td>\n",
       "      <td>136.7</td>\n",
       "      <td>134.0</td>\n",
       "      <td>136.7</td>\n",
       "      <td>44.0</td>\n",
       "      <td>134.60</td>\n",
       "      <td>20.0</td>\n",
       "    </tr>\n",
       "    <tr>\n",
       "      <th>2006-10-27</th>\n",
       "      <td>0.00</td>\n",
       "      <td>134.9</td>\n",
       "      <td>0.0</td>\n",
       "      <td>135.0</td>\n",
       "      <td>134.0</td>\n",
       "      <td>134.0</td>\n",
       "      <td>48.0</td>\n",
       "      <td>134.60</td>\n",
       "      <td>5.0</td>\n",
       "    </tr>\n",
       "    <tr>\n",
       "      <th>2006-10-30</th>\n",
       "      <td>-0.60</td>\n",
       "      <td>133.5</td>\n",
       "      <td>0.0</td>\n",
       "      <td>135.2</td>\n",
       "      <td>133.5</td>\n",
       "      <td>135.1</td>\n",
       "      <td>78.0</td>\n",
       "      <td>134.00</td>\n",
       "      <td>27.0</td>\n",
       "    </tr>\n",
       "    <tr>\n",
       "      <th>2006-10-31</th>\n",
       "      <td>-1.70</td>\n",
       "      <td>132.0</td>\n",
       "      <td>0.0</td>\n",
       "      <td>133.0</td>\n",
       "      <td>132.0</td>\n",
       "      <td>133.0</td>\n",
       "      <td>151.0</td>\n",
       "      <td>132.30</td>\n",
       "      <td>122.0</td>\n",
       "    </tr>\n",
       "    <tr>\n",
       "      <th>2006-11-01</th>\n",
       "      <td>-0.10</td>\n",
       "      <td>132.4</td>\n",
       "      <td>0.0</td>\n",
       "      <td>132.4</td>\n",
       "      <td>131.4</td>\n",
       "      <td>131.4</td>\n",
       "      <td>212.0</td>\n",
       "      <td>132.20</td>\n",
       "      <td>132.0</td>\n",
       "    </tr>\n",
       "    <tr>\n",
       "      <th>2006-11-02</th>\n",
       "      <td>-0.20</td>\n",
       "      <td>131.6</td>\n",
       "      <td>0.0</td>\n",
       "      <td>132.2</td>\n",
       "      <td>131.6</td>\n",
       "      <td>132.2</td>\n",
       "      <td>226.0</td>\n",
       "      <td>132.00</td>\n",
       "      <td>26.0</td>\n",
       "    </tr>\n",
       "    <tr>\n",
       "      <th>2006-11-03</th>\n",
       "      <td>-0.70</td>\n",
       "      <td>130.4</td>\n",
       "      <td>0.0</td>\n",
       "      <td>131.1</td>\n",
       "      <td>130.4</td>\n",
       "      <td>130.9</td>\n",
       "      <td>265.0</td>\n",
       "      <td>131.30</td>\n",
       "      <td>14.0</td>\n",
       "    </tr>\n",
       "    <tr>\n",
       "      <th>2006-11-06</th>\n",
       "      <td>-2.20</td>\n",
       "      <td>129.5</td>\n",
       "      <td>0.0</td>\n",
       "      <td>130.0</td>\n",
       "      <td>128.9</td>\n",
       "      <td>130.0</td>\n",
       "      <td>281.0</td>\n",
       "      <td>129.10</td>\n",
       "      <td>17.0</td>\n",
       "    </tr>\n",
       "    <tr>\n",
       "      <th>2006-11-07</th>\n",
       "      <td>-0.70</td>\n",
       "      <td>128.8</td>\n",
       "      <td>0.0</td>\n",
       "      <td>128.8</td>\n",
       "      <td>127.3</td>\n",
       "      <td>128.4</td>\n",
       "      <td>343.0</td>\n",
       "      <td>128.40</td>\n",
       "      <td>62.0</td>\n",
       "    </tr>\n",
       "    <tr>\n",
       "      <th>2006-11-08</th>\n",
       "      <td>-0.30</td>\n",
       "      <td>128.0</td>\n",
       "      <td>0.0</td>\n",
       "      <td>129.0</td>\n",
       "      <td>128.0</td>\n",
       "      <td>129.0</td>\n",
       "      <td>358.0</td>\n",
       "      <td>128.10</td>\n",
       "      <td>20.0</td>\n",
       "    </tr>\n",
       "    <tr>\n",
       "      <th>2006-11-09</th>\n",
       "      <td>-0.30</td>\n",
       "      <td>128.0</td>\n",
       "      <td>0.0</td>\n",
       "      <td>128.1</td>\n",
       "      <td>127.2</td>\n",
       "      <td>127.5</td>\n",
       "      <td>694.0</td>\n",
       "      <td>127.80</td>\n",
       "      <td>429.0</td>\n",
       "    </tr>\n",
       "    <tr>\n",
       "      <th>2006-11-10</th>\n",
       "      <td>-0.60</td>\n",
       "      <td>0.0</td>\n",
       "      <td>0.0</td>\n",
       "      <td>0.0</td>\n",
       "      <td>0.0</td>\n",
       "      <td>0.0</td>\n",
       "      <td>702.0</td>\n",
       "      <td>127.20</td>\n",
       "      <td>8.0</td>\n",
       "    </tr>\n",
       "    <tr>\n",
       "      <th>2006-11-13</th>\n",
       "      <td>-0.40</td>\n",
       "      <td>127.3</td>\n",
       "      <td>0.0</td>\n",
       "      <td>127.3</td>\n",
       "      <td>125.4</td>\n",
       "      <td>125.4</td>\n",
       "      <td>774.0</td>\n",
       "      <td>126.80</td>\n",
       "      <td>73.0</td>\n",
       "    </tr>\n",
       "    <tr>\n",
       "      <th>2006-11-14</th>\n",
       "      <td>-1.40</td>\n",
       "      <td>125.2</td>\n",
       "      <td>0.0</td>\n",
       "      <td>127.7</td>\n",
       "      <td>125.2</td>\n",
       "      <td>127.5</td>\n",
       "      <td>814.0</td>\n",
       "      <td>125.40</td>\n",
       "      <td>20.0</td>\n",
       "    </tr>\n",
       "    <tr>\n",
       "      <th>2006-11-15</th>\n",
       "      <td>-1.90</td>\n",
       "      <td>123.0</td>\n",
       "      <td>0.0</td>\n",
       "      <td>124.9</td>\n",
       "      <td>122.9</td>\n",
       "      <td>124.9</td>\n",
       "      <td>804.0</td>\n",
       "      <td>123.50</td>\n",
       "      <td>74.0</td>\n",
       "    </tr>\n",
       "    <tr>\n",
       "      <th>2006-11-16</th>\n",
       "      <td>-0.60</td>\n",
       "      <td>122.8</td>\n",
       "      <td>0.0</td>\n",
       "      <td>123.2</td>\n",
       "      <td>122.8</td>\n",
       "      <td>123.2</td>\n",
       "      <td>855.0</td>\n",
       "      <td>122.90</td>\n",
       "      <td>252.0</td>\n",
       "    </tr>\n",
       "    <tr>\n",
       "      <th>2006-11-17</th>\n",
       "      <td>0.30</td>\n",
       "      <td>123.5</td>\n",
       "      <td>0.0</td>\n",
       "      <td>124.2</td>\n",
       "      <td>122.4</td>\n",
       "      <td>122.4</td>\n",
       "      <td>867.0</td>\n",
       "      <td>123.20</td>\n",
       "      <td>24.0</td>\n",
       "    </tr>\n",
       "    <tr>\n",
       "      <th>2006-11-20</th>\n",
       "      <td>0.40</td>\n",
       "      <td>123.5</td>\n",
       "      <td>0.0</td>\n",
       "      <td>124.0</td>\n",
       "      <td>122.7</td>\n",
       "      <td>123.9</td>\n",
       "      <td>896.0</td>\n",
       "      <td>123.60</td>\n",
       "      <td>94.0</td>\n",
       "    </tr>\n",
       "    <tr>\n",
       "      <th>2006-11-21</th>\n",
       "      <td>1.20</td>\n",
       "      <td>125.0</td>\n",
       "      <td>0.0</td>\n",
       "      <td>125.0</td>\n",
       "      <td>123.6</td>\n",
       "      <td>124.5</td>\n",
       "      <td>1028.0</td>\n",
       "      <td>124.80</td>\n",
       "      <td>262.0</td>\n",
       "    </tr>\n",
       "    <tr>\n",
       "      <th>2006-11-22</th>\n",
       "      <td>1.10</td>\n",
       "      <td>126.4</td>\n",
       "      <td>0.0</td>\n",
       "      <td>126.4</td>\n",
       "      <td>125.2</td>\n",
       "      <td>125.7</td>\n",
       "      <td>1098.0</td>\n",
       "      <td>125.90</td>\n",
       "      <td>95.0</td>\n",
       "    </tr>\n",
       "    <tr>\n",
       "      <th>2006-11-24</th>\n",
       "      <td>2.50</td>\n",
       "      <td>128.5</td>\n",
       "      <td>0.0</td>\n",
       "      <td>130.0</td>\n",
       "      <td>127.0</td>\n",
       "      <td>127.0</td>\n",
       "      <td>1187.0</td>\n",
       "      <td>128.40</td>\n",
       "      <td>101.0</td>\n",
       "    </tr>\n",
       "    <tr>\n",
       "      <th>2006-11-27</th>\n",
       "      <td>5.50</td>\n",
       "      <td>134.4</td>\n",
       "      <td>0.0</td>\n",
       "      <td>134.4</td>\n",
       "      <td>129.7</td>\n",
       "      <td>129.7</td>\n",
       "      <td>1247.0</td>\n",
       "      <td>133.90</td>\n",
       "      <td>193.0</td>\n",
       "    </tr>\n",
       "    <tr>\n",
       "      <th>2006-11-28</th>\n",
       "      <td>-4.30</td>\n",
       "      <td>129.5</td>\n",
       "      <td>0.0</td>\n",
       "      <td>135.0</td>\n",
       "      <td>129.5</td>\n",
       "      <td>134.5</td>\n",
       "      <td>1493.0</td>\n",
       "      <td>129.60</td>\n",
       "      <td>262.0</td>\n",
       "    </tr>\n",
       "    <tr>\n",
       "      <th>2006-11-29</th>\n",
       "      <td>-3.80</td>\n",
       "      <td>126.0</td>\n",
       "      <td>0.0</td>\n",
       "      <td>128.1</td>\n",
       "      <td>125.2</td>\n",
       "      <td>128.1</td>\n",
       "      <td>1528.0</td>\n",
       "      <td>125.80</td>\n",
       "      <td>73.0</td>\n",
       "    </tr>\n",
       "    <tr>\n",
       "      <th>2006-11-30</th>\n",
       "      <td>-0.60</td>\n",
       "      <td>125.3</td>\n",
       "      <td>0.0</td>\n",
       "      <td>128.7</td>\n",
       "      <td>124.8</td>\n",
       "      <td>126.0</td>\n",
       "      <td>1711.0</td>\n",
       "      <td>125.20</td>\n",
       "      <td>393.0</td>\n",
       "    </tr>\n",
       "    <tr>\n",
       "      <th>2006-12-01</th>\n",
       "      <td>2.20</td>\n",
       "      <td>127.5</td>\n",
       "      <td>0.0</td>\n",
       "      <td>129.7</td>\n",
       "      <td>126.0</td>\n",
       "      <td>128.0</td>\n",
       "      <td>1818.0</td>\n",
       "      <td>127.40</td>\n",
       "      <td>281.0</td>\n",
       "    </tr>\n",
       "    <tr>\n",
       "      <th>2006-12-04</th>\n",
       "      <td>-2.40</td>\n",
       "      <td>125.0</td>\n",
       "      <td>0.0</td>\n",
       "      <td>127.2</td>\n",
       "      <td>124.9</td>\n",
       "      <td>126.1</td>\n",
       "      <td>1984.0</td>\n",
       "      <td>125.00</td>\n",
       "      <td>227.0</td>\n",
       "    </tr>\n",
       "    <tr>\n",
       "      <th>2006-12-05</th>\n",
       "      <td>0.50</td>\n",
       "      <td>125.3</td>\n",
       "      <td>0.0</td>\n",
       "      <td>125.7</td>\n",
       "      <td>124.0</td>\n",
       "      <td>124.4</td>\n",
       "      <td>2099.0</td>\n",
       "      <td>125.50</td>\n",
       "      <td>126.0</td>\n",
       "    </tr>\n",
       "    <tr>\n",
       "      <th>2006-12-06</th>\n",
       "      <td>1.40</td>\n",
       "      <td>125.9</td>\n",
       "      <td>0.0</td>\n",
       "      <td>126.5</td>\n",
       "      <td>125.0</td>\n",
       "      <td>125.0</td>\n",
       "      <td>2175.0</td>\n",
       "      <td>126.90</td>\n",
       "      <td>108.0</td>\n",
       "    </tr>\n",
       "    <tr>\n",
       "      <th>2006-12-07</th>\n",
       "      <td>0.80</td>\n",
       "      <td>128.0</td>\n",
       "      <td>0.0</td>\n",
       "      <td>128.0</td>\n",
       "      <td>126.3</td>\n",
       "      <td>126.3</td>\n",
       "      <td>2198.0</td>\n",
       "      <td>127.70</td>\n",
       "      <td>88.0</td>\n",
       "    </tr>\n",
       "    <tr>\n",
       "      <th>2006-12-08</th>\n",
       "      <td>0.40</td>\n",
       "      <td>128.7</td>\n",
       "      <td>0.0</td>\n",
       "      <td>129.4</td>\n",
       "      <td>127.2</td>\n",
       "      <td>128.3</td>\n",
       "      <td>2410.0</td>\n",
       "      <td>128.10</td>\n",
       "      <td>244.0</td>\n",
       "    </tr>\n",
       "    <tr>\n",
       "      <th>2006-12-11</th>\n",
       "      <td>-2.10</td>\n",
       "      <td>125.7</td>\n",
       "      <td>0.0</td>\n",
       "      <td>127.3</td>\n",
       "      <td>125.2</td>\n",
       "      <td>127.3</td>\n",
       "      <td>2577.0</td>\n",
       "      <td>126.00</td>\n",
       "      <td>252.0</td>\n",
       "    </tr>\n",
       "    <tr>\n",
       "      <th>2006-12-12</th>\n",
       "      <td>-0.90</td>\n",
       "      <td>125.4</td>\n",
       "      <td>0.0</td>\n",
       "      <td>127.0</td>\n",
       "      <td>123.5</td>\n",
       "      <td>125.7</td>\n",
       "      <td>3069.0</td>\n",
       "      <td>125.10</td>\n",
       "      <td>523.0</td>\n",
       "    </tr>\n",
       "    <tr>\n",
       "      <th>2006-12-13</th>\n",
       "      <td>-0.80</td>\n",
       "      <td>124.8</td>\n",
       "      <td>0.0</td>\n",
       "      <td>125.0</td>\n",
       "      <td>123.2</td>\n",
       "      <td>124.2</td>\n",
       "      <td>3157.0</td>\n",
       "      <td>124.30</td>\n",
       "      <td>250.0</td>\n",
       "    </tr>\n",
       "    <tr>\n",
       "      <th>2006-12-14</th>\n",
       "      <td>1.00</td>\n",
       "      <td>125.5</td>\n",
       "      <td>0.0</td>\n",
       "      <td>125.5</td>\n",
       "      <td>121.1</td>\n",
       "      <td>123.7</td>\n",
       "      <td>3832.0</td>\n",
       "      <td>125.30</td>\n",
       "      <td>636.0</td>\n",
       "    </tr>\n",
       "    <tr>\n",
       "      <th>2006-12-15</th>\n",
       "      <td>1.80</td>\n",
       "      <td>127.0</td>\n",
       "      <td>0.0</td>\n",
       "      <td>127.0</td>\n",
       "      <td>124.6</td>\n",
       "      <td>124.8</td>\n",
       "      <td>3732.0</td>\n",
       "      <td>127.10</td>\n",
       "      <td>109.0</td>\n",
       "    </tr>\n",
       "    <tr>\n",
       "      <th>2006-12-18</th>\n",
       "      <td>0.30</td>\n",
       "      <td>127.5</td>\n",
       "      <td>0.0</td>\n",
       "      <td>127.8</td>\n",
       "      <td>125.6</td>\n",
       "      <td>127.8</td>\n",
       "      <td>3820.0</td>\n",
       "      <td>127.40</td>\n",
       "      <td>134.0</td>\n",
       "    </tr>\n",
       "    <tr>\n",
       "      <th>2006-12-19</th>\n",
       "      <td>-3.50</td>\n",
       "      <td>124.0</td>\n",
       "      <td>0.0</td>\n",
       "      <td>128.9</td>\n",
       "      <td>123.4</td>\n",
       "      <td>128.4</td>\n",
       "      <td>4138.0</td>\n",
       "      <td>123.90</td>\n",
       "      <td>389.0</td>\n",
       "    </tr>\n",
       "    <tr>\n",
       "      <th>2006-12-20</th>\n",
       "      <td>-0.40</td>\n",
       "      <td>123.7</td>\n",
       "      <td>0.0</td>\n",
       "      <td>126.0</td>\n",
       "      <td>123.0</td>\n",
       "      <td>123.0</td>\n",
       "      <td>4293.0</td>\n",
       "      <td>123.50</td>\n",
       "      <td>235.0</td>\n",
       "    </tr>\n",
       "    <tr>\n",
       "      <th>2006-12-21</th>\n",
       "      <td>0.90</td>\n",
       "      <td>124.2</td>\n",
       "      <td>0.0</td>\n",
       "      <td>125.2</td>\n",
       "      <td>123.0</td>\n",
       "      <td>123.0</td>\n",
       "      <td>4421.0</td>\n",
       "      <td>124.40</td>\n",
       "      <td>280.0</td>\n",
       "    </tr>\n",
       "    <tr>\n",
       "      <th>2006-12-22</th>\n",
       "      <td>1.80</td>\n",
       "      <td>126.2</td>\n",
       "      <td>0.0</td>\n",
       "      <td>127.5</td>\n",
       "      <td>123.7</td>\n",
       "      <td>125.3</td>\n",
       "      <td>4454.0</td>\n",
       "      <td>126.20</td>\n",
       "      <td>141.0</td>\n",
       "    </tr>\n",
       "    <tr>\n",
       "      <th>2006-12-26</th>\n",
       "      <td>-3.50</td>\n",
       "      <td>122.5</td>\n",
       "      <td>0.0</td>\n",
       "      <td>125.7</td>\n",
       "      <td>122.5</td>\n",
       "      <td>125.7</td>\n",
       "      <td>4515.0</td>\n",
       "      <td>122.70</td>\n",
       "      <td>41.0</td>\n",
       "    </tr>\n",
       "    <tr>\n",
       "      <th>2006-12-27</th>\n",
       "      <td>-3.20</td>\n",
       "      <td>119.1</td>\n",
       "      <td>0.0</td>\n",
       "      <td>121.0</td>\n",
       "      <td>119.0</td>\n",
       "      <td>121.0</td>\n",
       "      <td>4528.0</td>\n",
       "      <td>119.50</td>\n",
       "      <td>70.0</td>\n",
       "    </tr>\n",
       "    <tr>\n",
       "      <th>2006-12-28</th>\n",
       "      <td>1.40</td>\n",
       "      <td>120.9</td>\n",
       "      <td>0.0</td>\n",
       "      <td>121.2</td>\n",
       "      <td>119.1</td>\n",
       "      <td>119.1</td>\n",
       "      <td>4575.0</td>\n",
       "      <td>120.90</td>\n",
       "      <td>70.0</td>\n",
       "    </tr>\n",
       "    <tr>\n",
       "      <th>2006-12-29</th>\n",
       "      <td>2.10</td>\n",
       "      <td>123.0</td>\n",
       "      <td>0.0</td>\n",
       "      <td>124.5</td>\n",
       "      <td>120.5</td>\n",
       "      <td>121.4</td>\n",
       "      <td>4657.0</td>\n",
       "      <td>123.00</td>\n",
       "      <td>171.0</td>\n",
       "    </tr>\n",
       "    <tr>\n",
       "      <th>2007-01-03</th>\n",
       "      <td>0.00</td>\n",
       "      <td>0.0</td>\n",
       "      <td>0.0</td>\n",
       "      <td>0.0</td>\n",
       "      <td>0.0</td>\n",
       "      <td>0.0</td>\n",
       "      <td>4618.0</td>\n",
       "      <td>123.00</td>\n",
       "      <td>0.0</td>\n",
       "    </tr>\n",
       "    <tr>\n",
       "      <th>2007-01-04</th>\n",
       "      <td>-1.00</td>\n",
       "      <td>121.5</td>\n",
       "      <td>0.0</td>\n",
       "      <td>124.5</td>\n",
       "      <td>120.6</td>\n",
       "      <td>122.7</td>\n",
       "      <td>4533.0</td>\n",
       "      <td>121.10</td>\n",
       "      <td>287.0</td>\n",
       "    </tr>\n",
       "    <tr>\n",
       "      <th>2007-01-05</th>\n",
       "      <td>2.70</td>\n",
       "      <td>123.9</td>\n",
       "      <td>0.0</td>\n",
       "      <td>124.4</td>\n",
       "      <td>121.9</td>\n",
       "      <td>121.9</td>\n",
       "      <td>4431.0</td>\n",
       "      <td>123.80</td>\n",
       "      <td>161.0</td>\n",
       "    </tr>\n",
       "    <tr>\n",
       "      <th>2007-01-08</th>\n",
       "      <td>-1.30</td>\n",
       "      <td>122.7</td>\n",
       "      <td>0.0</td>\n",
       "      <td>125.6</td>\n",
       "      <td>122.1</td>\n",
       "      <td>124.2</td>\n",
       "      <td>4691.0</td>\n",
       "      <td>122.50</td>\n",
       "      <td>443.0</td>\n",
       "    </tr>\n",
       "    <tr>\n",
       "      <th>2007-01-09</th>\n",
       "      <td>0.90</td>\n",
       "      <td>123.7</td>\n",
       "      <td>0.0</td>\n",
       "      <td>125.0</td>\n",
       "      <td>121.0</td>\n",
       "      <td>122.8</td>\n",
       "      <td>4100.0</td>\n",
       "      <td>123.40</td>\n",
       "      <td>408.0</td>\n",
       "    </tr>\n",
       "    <tr>\n",
       "      <th>2007-01-10</th>\n",
       "      <td>-4.40</td>\n",
       "      <td>120.0</td>\n",
       "      <td>0.0</td>\n",
       "      <td>125.6</td>\n",
       "      <td>119.0</td>\n",
       "      <td>124.8</td>\n",
       "      <td>3953.0</td>\n",
       "      <td>119.00</td>\n",
       "      <td>400.0</td>\n",
       "    </tr>\n",
       "    <tr>\n",
       "      <th>2007-01-11</th>\n",
       "      <td>-9.20</td>\n",
       "      <td>109.5</td>\n",
       "      <td>0.0</td>\n",
       "      <td>117.8</td>\n",
       "      <td>108.0</td>\n",
       "      <td>117.8</td>\n",
       "      <td>4096.0</td>\n",
       "      <td>109.80</td>\n",
       "      <td>549.0</td>\n",
       "    </tr>\n",
       "    <tr>\n",
       "      <th>2007-01-12</th>\n",
       "      <td>-3.20</td>\n",
       "      <td>106.2</td>\n",
       "      <td>0.0</td>\n",
       "      <td>110.7</td>\n",
       "      <td>106.0</td>\n",
       "      <td>109.5</td>\n",
       "      <td>4008.0</td>\n",
       "      <td>106.60</td>\n",
       "      <td>589.0</td>\n",
       "    </tr>\n",
       "    <tr>\n",
       "      <th>2007-01-16</th>\n",
       "      <td>-0.70</td>\n",
       "      <td>105.6</td>\n",
       "      <td>0.0</td>\n",
       "      <td>107.3</td>\n",
       "      <td>104.5</td>\n",
       "      <td>106.0</td>\n",
       "      <td>4165.0</td>\n",
       "      <td>105.90</td>\n",
       "      <td>963.0</td>\n",
       "    </tr>\n",
       "    <tr>\n",
       "      <th>2007-01-17</th>\n",
       "      <td>1.16</td>\n",
       "      <td>0.0</td>\n",
       "      <td>0.0</td>\n",
       "      <td>0.0</td>\n",
       "      <td>0.0</td>\n",
       "      <td>0.0</td>\n",
       "      <td>3878.0</td>\n",
       "      <td>107.06</td>\n",
       "      <td>0.0</td>\n",
       "    </tr>\n",
       "  </tbody>\n",
       "</table>\n",
       "</div>"
      ],
      "text/plain": [
       "            Change  Close  EFP   High    Low   Open  Open Interest  Settle  \\\n",
       "2006-10-20    0.00    0.0  0.0    0.0    0.0    0.0            0.0    0.00   \n",
       "2006-10-23  140.80    0.0  0.0    0.0    0.0    0.0            0.0  140.80   \n",
       "2006-10-24   -0.50  140.6  0.0  141.0  140.6  141.0            4.0  140.30   \n",
       "2006-10-25   -2.40  137.4  0.0  139.0  137.4  139.0           25.0  137.90   \n",
       "2006-10-26   -3.30  135.0  0.0  136.7  134.0  136.7           44.0  134.60   \n",
       "2006-10-27    0.00  134.9  0.0  135.0  134.0  134.0           48.0  134.60   \n",
       "2006-10-30   -0.60  133.5  0.0  135.2  133.5  135.1           78.0  134.00   \n",
       "2006-10-31   -1.70  132.0  0.0  133.0  132.0  133.0          151.0  132.30   \n",
       "2006-11-01   -0.10  132.4  0.0  132.4  131.4  131.4          212.0  132.20   \n",
       "2006-11-02   -0.20  131.6  0.0  132.2  131.6  132.2          226.0  132.00   \n",
       "2006-11-03   -0.70  130.4  0.0  131.1  130.4  130.9          265.0  131.30   \n",
       "2006-11-06   -2.20  129.5  0.0  130.0  128.9  130.0          281.0  129.10   \n",
       "2006-11-07   -0.70  128.8  0.0  128.8  127.3  128.4          343.0  128.40   \n",
       "2006-11-08   -0.30  128.0  0.0  129.0  128.0  129.0          358.0  128.10   \n",
       "2006-11-09   -0.30  128.0  0.0  128.1  127.2  127.5          694.0  127.80   \n",
       "2006-11-10   -0.60    0.0  0.0    0.0    0.0    0.0          702.0  127.20   \n",
       "2006-11-13   -0.40  127.3  0.0  127.3  125.4  125.4          774.0  126.80   \n",
       "2006-11-14   -1.40  125.2  0.0  127.7  125.2  127.5          814.0  125.40   \n",
       "2006-11-15   -1.90  123.0  0.0  124.9  122.9  124.9          804.0  123.50   \n",
       "2006-11-16   -0.60  122.8  0.0  123.2  122.8  123.2          855.0  122.90   \n",
       "2006-11-17    0.30  123.5  0.0  124.2  122.4  122.4          867.0  123.20   \n",
       "2006-11-20    0.40  123.5  0.0  124.0  122.7  123.9          896.0  123.60   \n",
       "2006-11-21    1.20  125.0  0.0  125.0  123.6  124.5         1028.0  124.80   \n",
       "2006-11-22    1.10  126.4  0.0  126.4  125.2  125.7         1098.0  125.90   \n",
       "2006-11-24    2.50  128.5  0.0  130.0  127.0  127.0         1187.0  128.40   \n",
       "2006-11-27    5.50  134.4  0.0  134.4  129.7  129.7         1247.0  133.90   \n",
       "2006-11-28   -4.30  129.5  0.0  135.0  129.5  134.5         1493.0  129.60   \n",
       "2006-11-29   -3.80  126.0  0.0  128.1  125.2  128.1         1528.0  125.80   \n",
       "2006-11-30   -0.60  125.3  0.0  128.7  124.8  126.0         1711.0  125.20   \n",
       "2006-12-01    2.20  127.5  0.0  129.7  126.0  128.0         1818.0  127.40   \n",
       "2006-12-04   -2.40  125.0  0.0  127.2  124.9  126.1         1984.0  125.00   \n",
       "2006-12-05    0.50  125.3  0.0  125.7  124.0  124.4         2099.0  125.50   \n",
       "2006-12-06    1.40  125.9  0.0  126.5  125.0  125.0         2175.0  126.90   \n",
       "2006-12-07    0.80  128.0  0.0  128.0  126.3  126.3         2198.0  127.70   \n",
       "2006-12-08    0.40  128.7  0.0  129.4  127.2  128.3         2410.0  128.10   \n",
       "2006-12-11   -2.10  125.7  0.0  127.3  125.2  127.3         2577.0  126.00   \n",
       "2006-12-12   -0.90  125.4  0.0  127.0  123.5  125.7         3069.0  125.10   \n",
       "2006-12-13   -0.80  124.8  0.0  125.0  123.2  124.2         3157.0  124.30   \n",
       "2006-12-14    1.00  125.5  0.0  125.5  121.1  123.7         3832.0  125.30   \n",
       "2006-12-15    1.80  127.0  0.0  127.0  124.6  124.8         3732.0  127.10   \n",
       "2006-12-18    0.30  127.5  0.0  127.8  125.6  127.8         3820.0  127.40   \n",
       "2006-12-19   -3.50  124.0  0.0  128.9  123.4  128.4         4138.0  123.90   \n",
       "2006-12-20   -0.40  123.7  0.0  126.0  123.0  123.0         4293.0  123.50   \n",
       "2006-12-21    0.90  124.2  0.0  125.2  123.0  123.0         4421.0  124.40   \n",
       "2006-12-22    1.80  126.2  0.0  127.5  123.7  125.3         4454.0  126.20   \n",
       "2006-12-26   -3.50  122.5  0.0  125.7  122.5  125.7         4515.0  122.70   \n",
       "2006-12-27   -3.20  119.1  0.0  121.0  119.0  121.0         4528.0  119.50   \n",
       "2006-12-28    1.40  120.9  0.0  121.2  119.1  119.1         4575.0  120.90   \n",
       "2006-12-29    2.10  123.0  0.0  124.5  120.5  121.4         4657.0  123.00   \n",
       "2007-01-03    0.00    0.0  0.0    0.0    0.0    0.0         4618.0  123.00   \n",
       "2007-01-04   -1.00  121.5  0.0  124.5  120.6  122.7         4533.0  121.10   \n",
       "2007-01-05    2.70  123.9  0.0  124.4  121.9  121.9         4431.0  123.80   \n",
       "2007-01-08   -1.30  122.7  0.0  125.6  122.1  124.2         4691.0  122.50   \n",
       "2007-01-09    0.90  123.7  0.0  125.0  121.0  122.8         4100.0  123.40   \n",
       "2007-01-10   -4.40  120.0  0.0  125.6  119.0  124.8         3953.0  119.00   \n",
       "2007-01-11   -9.20  109.5  0.0  117.8  108.0  117.8         4096.0  109.80   \n",
       "2007-01-12   -3.20  106.2  0.0  110.7  106.0  109.5         4008.0  106.60   \n",
       "2007-01-16   -0.70  105.6  0.0  107.3  104.5  106.0         4165.0  105.90   \n",
       "2007-01-17    1.16    0.0  0.0    0.0    0.0    0.0         3878.0  107.06   \n",
       "\n",
       "            Total Volume  \n",
       "2006-10-20           0.0  \n",
       "2006-10-23           0.0  \n",
       "2006-10-24           4.0  \n",
       "2006-10-25          22.0  \n",
       "2006-10-26          20.0  \n",
       "2006-10-27           5.0  \n",
       "2006-10-30          27.0  \n",
       "2006-10-31         122.0  \n",
       "2006-11-01         132.0  \n",
       "2006-11-02          26.0  \n",
       "2006-11-03          14.0  \n",
       "2006-11-06          17.0  \n",
       "2006-11-07          62.0  \n",
       "2006-11-08          20.0  \n",
       "2006-11-09         429.0  \n",
       "2006-11-10           8.0  \n",
       "2006-11-13          73.0  \n",
       "2006-11-14          20.0  \n",
       "2006-11-15          74.0  \n",
       "2006-11-16         252.0  \n",
       "2006-11-17          24.0  \n",
       "2006-11-20          94.0  \n",
       "2006-11-21         262.0  \n",
       "2006-11-22          95.0  \n",
       "2006-11-24         101.0  \n",
       "2006-11-27         193.0  \n",
       "2006-11-28         262.0  \n",
       "2006-11-29          73.0  \n",
       "2006-11-30         393.0  \n",
       "2006-12-01         281.0  \n",
       "2006-12-04         227.0  \n",
       "2006-12-05         126.0  \n",
       "2006-12-06         108.0  \n",
       "2006-12-07          88.0  \n",
       "2006-12-08         244.0  \n",
       "2006-12-11         252.0  \n",
       "2006-12-12         523.0  \n",
       "2006-12-13         250.0  \n",
       "2006-12-14         636.0  \n",
       "2006-12-15         109.0  \n",
       "2006-12-18         134.0  \n",
       "2006-12-19         389.0  \n",
       "2006-12-20         235.0  \n",
       "2006-12-21         280.0  \n",
       "2006-12-22         141.0  \n",
       "2006-12-26          41.0  \n",
       "2006-12-27          70.0  \n",
       "2006-12-28          70.0  \n",
       "2006-12-29         171.0  \n",
       "2007-01-03           0.0  \n",
       "2007-01-04         287.0  \n",
       "2007-01-05         161.0  \n",
       "2007-01-08         443.0  \n",
       "2007-01-09         408.0  \n",
       "2007-01-10         400.0  \n",
       "2007-01-11         549.0  \n",
       "2007-01-12         589.0  \n",
       "2007-01-16         963.0  \n",
       "2007-01-17           0.0  "
      ]
     },
     "execution_count": 25,
     "metadata": {},
     "output_type": "execute_result"
    }
   ],
   "source": [
    "df"
   ]
  },
  {
   "cell_type": "code",
   "execution_count": 40,
   "metadata": {
    "collapsed": true
   },
   "outputs": [],
   "source": [
    "fut_data_dict = {}\n",
    "\n",
    "for this_file in fut_files :\n",
    "    this_df = pd.read_csv('../data/vix_data/fut/'+this_file, index_col = 'Unnamed: 0')\n",
    "    this_df.index = [ dt.datetime.strptime( val ,'%Y-%m-%d') for val in this_df.index ] \n",
    "    this_df = this_df[['Close']]\n",
    "    this_df['next_Close'] = this_df['Close'].shift(-1)\n",
    "    this_df = this_df.iloc[:-1,:]\n",
    "    \n",
    "    fut_data_dict[this_file] = this_df"
   ]
  },
  {
   "cell_type": "code",
   "execution_count": 84,
   "metadata": {
    "collapsed": false
   },
   "outputs": [],
   "source": [
    "vix_index = pd.read_csv('../data/vix_data/vix_index.csv', index_col = 'Date')\n",
    "vix_index.index = [ dt.datetime.strptime( val ,'%m/%d/%Y') for val in vix_index.index ]\n",
    "vix_index = vix_index['VIX Close']"
   ]
  },
  {
   "cell_type": "code",
   "execution_count": 85,
   "metadata": {
    "collapsed": false
   },
   "outputs": [],
   "source": [
    "start_date  = dt.datetime.strptime( '2008-01-01' ,'%Y-%m-%d')\n",
    "end_date  = dt.datetime.strptime( '2018-02-13' ,'%Y-%m-%d')\n",
    "vix_index = vix_index[ ( vix_index.index >=start_date ) & (vix_index.index <=end_date) ]"
   ]
  },
  {
   "cell_type": "code",
   "execution_count": 86,
   "metadata": {
    "collapsed": false
   },
   "outputs": [],
   "source": [
    "def get_expiry(this_date):    \n",
    "    y = this_date.year\n",
    "    m= this_date.month\n",
    "    key = str(y)+'_'+str(m)\n",
    "    this_df = fut_data_dict[key]\n",
    "    expiry = this_df.index[-1]\n",
    "    #print(expiry)\n",
    "    if expiry < this_date :\n",
    "        next_date = this_date + dateutil.relativedelta.relativedelta(months=1)\n",
    "        #print(next_date)\n",
    "        y = next_date.year\n",
    "        m= next_date.month\n",
    "        key = str(y)+'_'+str(m)\n",
    "        #print(key)\n",
    "        this_df = fut_data_dict[key]\n",
    "        expiry = this_df.index[-1]\n",
    "        #print(expiry)\n",
    "    \n",
    "    ttm = (expiry - this_date).days\n",
    "    \n",
    "    return(expiry,ttm)\n"
   ]
  },
  {
   "cell_type": "code",
   "execution_count": 117,
   "metadata": {
    "collapsed": false
   },
   "outputs": [],
   "source": [
    "def get_fut_curve(this_date, fut_data_dict, vix_index, num_fut= 4):\n",
    "    steps = range(num_fut)\n",
    "    p_vec = []\n",
    "    next_p_vec = []\n",
    "    expiry, ttm = get_expiry(this_date)    \n",
    "    \n",
    "    for step in steps:    \n",
    "\n",
    "        next_expiry = expiry + dateutil.relativedelta.relativedelta(months=step)\n",
    "\n",
    "        y = next_expiry.year\n",
    "        m= next_expiry.month\n",
    "        key = str(y)+'_'+str(m)\n",
    "        this_df = fut_data_dict[key]\n",
    "        p = this_df.loc[this_date]\n",
    "        p_vec.append(p['Close'])\n",
    "        next_p_vec.append(p['next_Close'])\n",
    "    \n",
    "    p_vec = pd.Series(p_vec, index = steps, name = this_date)\n",
    "    next_p_vec = pd.Series( next_p_vec, index = steps, name = this_date)\n",
    "    return p_vec, next_p_vec, expiry, ttm\n",
    "\n",
    "def get_const_fut( this_date, fut_data_dict, vix_index, num_fut ):\n",
    "    p_vec, next_p_vec, expiry, ttm = get_fut_curve(this_date, fut_data_dict, vix_index, num_fut)\n",
    "    \n",
    "    num_days = 31.0\n",
    "    \n",
    "    w1 = (ttm)/(num_days)\n",
    "    w2 = 1.0 - w1\n",
    "    \n",
    "    const_p_vec = []\n",
    "    const_next_p_vec = []\n",
    "    steps = range(num_fut-1)\n",
    "    for i in steps:\n",
    "        p = ( p_vec[i]*w1 ) + (p_vec[i+1]*w2)\n",
    "        n_p = ( next_p_vec[i]*w1 ) + (next_p_vec[i+1]*w2)\n",
    "        \n",
    "        const_p_vec.append(p)\n",
    "        const_next_p_vec.append(n_p)\n",
    "        \n",
    "    const_p_vec = pd.Series(const_p_vec, index = steps, name = this_date)   \n",
    "    const_next_p_vec = pd.Series(const_next_p_vec, index = steps, name = this_date)   \n",
    "    \n",
    "    return const_p_vec, const_next_p_vec, expiry, ttm\n",
    "\n",
    "\n",
    "def get_carry(this_date, fut_data_dict, vix_index, num_fut):\n",
    "    const_p_vec, const_next_p_vec, expiry, ttm = get_const_fut( this_date, fut_data_dict, vix_index, num_fut )\n",
    "    this_vec = pd.Series(np.zeros(num_fut), name = this_date)\n",
    "    this_vec.iloc[0] = vix_index.loc[this_date]\n",
    "    this_vec.iloc[1:] = const_p_vec.values\n",
    "    carry = this_vec.pct_change()/31.0\n",
    "    carry = carry.iloc[1:]\n",
    "    print(carry)"
   ]
  },
  {
   "cell_type": "code",
   "execution_count": 120,
   "metadata": {
    "collapsed": false
   },
   "outputs": [],
   "source": [
    "p1, p2,e, t = get_const_fut(end_date, fut_data_dict, vix_index,num_fut= 6)"
   ]
  },
  {
   "cell_type": "code",
   "execution_count": 123,
   "metadata": {
    "collapsed": false
   },
   "outputs": [
    {
     "name": "stdout",
     "output_type": "stream",
     "text": [
      "1   -0.006627\n",
      "2   -0.001415\n",
      "3   -0.000629\n",
      "4   -0.000711\n",
      "5    0.000124\n",
      "Name: 2018-02-13 00:00:00, dtype: float64\n"
     ]
    }
   ],
   "source": [
    "carry = get_carry(end_date, fut_data_dict, vix_index, num_fut=6)\n",
    "carry"
   ]
  },
  {
   "cell_type": "code",
   "execution_count": 122,
   "metadata": {
    "collapsed": false
   },
   "outputs": [
    {
     "data": {
      "text/plain": [
       "0         NaN\n",
       "1   -0.001415\n",
       "2   -0.000629\n",
       "3   -0.000711\n",
       "4    0.000124\n",
       "Name: 2018-02-13 00:00:00, dtype: float64"
      ]
     },
     "execution_count": 122,
     "metadata": {},
     "output_type": "execute_result"
    }
   ],
   "source": []
  },
  {
   "cell_type": "code",
   "execution_count": 124,
   "metadata": {
    "collapsed": false
   },
   "outputs": [
    {
     "data": {
      "text/plain": [
       "0    19.84\n",
       "1    18.97\n",
       "2    18.60\n",
       "3    18.19\n",
       "4    18.26\n",
       "Name: 2018-02-13 00:00:00, dtype: float64"
      ]
     },
     "execution_count": 124,
     "metadata": {},
     "output_type": "execute_result"
    }
   ],
   "source": [
    "p1"
   ]
  },
  {
   "cell_type": "code",
   "execution_count": 113,
   "metadata": {
    "collapsed": true
   },
   "outputs": [],
   "source": [
    "p1, p2,e, t = get_fut_curve(end_date, fut_data_dict, vix_index,num_fut= 6)"
   ]
  },
  {
   "cell_type": "code",
   "execution_count": 114,
   "metadata": {
    "collapsed": false
   },
   "outputs": [
    {
     "data": {
      "text/plain": [
       "0    25.23\n",
       "1    19.84\n",
       "2    18.97\n",
       "3    18.60\n",
       "4    18.19\n",
       "5    18.26\n",
       "Name: 2018-02-13 00:00:00, dtype: float64"
      ]
     },
     "execution_count": 114,
     "metadata": {},
     "output_type": "execute_result"
    }
   ],
   "source": [
    "p1"
   ]
  },
  {
   "cell_type": "code",
   "execution_count": 314,
   "metadata": {
    "collapsed": false
   },
   "outputs": [],
   "source": [
    "exec(open(\"./vix_manager.py\").read())"
   ]
  },
  {
   "cell_type": "code",
   "execution_count": 315,
   "metadata": {
    "collapsed": false
   },
   "outputs": [],
   "source": [
    "vm = VixManager(fut_data_dir='../data/vix_data/fut/', index_file='../data/vix_data/vix_index.csv')"
   ]
  },
  {
   "cell_type": "code",
   "execution_count": 316,
   "metadata": {
    "collapsed": false
   },
   "outputs": [],
   "source": [
    "start_date  = dt.datetime.strptime( '2009-01-01' ,'%Y-%m-%d')\n",
    "end_date  = dt.datetime.strptime( '2018-02-13' ,'%Y-%m-%d')\n",
    "vm.set_const_fut_data(start_date, end_date, cov_hl = 60, num_fut=6)"
   ]
  },
  {
   "cell_type": "code",
   "execution_count": 317,
   "metadata": {
    "collapsed": true
   },
   "outputs": [],
   "source": [
    "ret_vec = vm.get_const_w_ret( w= [-1.0,0.0,0.0,0.0,0.0] )"
   ]
  },
  {
   "cell_type": "code",
   "execution_count": 318,
   "metadata": {
    "collapsed": false
   },
   "outputs": [
    {
     "data": {
      "text/plain": [
       "<matplotlib.axes._subplots.AxesSubplot at 0x12fcb85c0>"
      ]
     },
     "execution_count": 318,
     "metadata": {},
     "output_type": "execute_result"
    },
    {
     "data": {
      "image/png": "[encoded data removed]",
      "text/plain": [
       "<matplotlib.figure.Figure at 0x131dd51d0>"
      ]
     },
     "metadata": {},
     "output_type": "display_data"
    }
   ],
   "source": [
    "(1+ret_vec).cumprod().plot()"
   ]
  },
  {
   "cell_type": "code",
   "execution_count": 319,
   "metadata": {
    "collapsed": false
   },
   "outputs": [
    {
     "name": "stdout",
     "output_type": "stream",
     "text": [
      "0.809030516239\n"
     ]
    },
    {
     "data": {
      "image/png": "[encoded data removed]",
      "text/plain": [
       "<matplotlib.figure.Figure at 0x132e2d828>"
      ]
     },
     "metadata": {},
     "output_type": "display_data"
    }
   ],
   "source": [
    "(ret_vec).cumsum().plot()\n",
    "print( ret_vec.mean()*sqrt(252)/ret_vec.std() )"
   ]
  },
  {
   "cell_type": "code",
   "execution_count": 320,
   "metadata": {
    "collapsed": false
   },
   "outputs": [
    {
     "name": "stdout",
     "output_type": "stream",
     "text": [
      "2009-01-02 00:00:00\n",
      "2009-01-05 00:00:00\n"
     ]
    }
   ],
   "source": [
    "ret_vec = vm.get_best_sharpe_w_ret(  )"
   ]
  },
  {
   "cell_type": "code",
   "execution_count": 321,
   "metadata": {
    "collapsed": false
   },
   "outputs": [
    {
     "name": "stdout",
     "output_type": "stream",
     "text": [
      "1.66201225195\n"
     ]
    },
    {
     "data": {
      "image/png": "[encoded data removed]",
      "text/plain": [
       "<matplotlib.figure.Figure at 0x132e2aac8>"
      ]
     },
     "metadata": {},
     "output_type": "display_data"
    }
   ],
   "source": [
    "(ret_vec).cumsum().plot()\n",
    "print( ret_vec.mean()*sqrt(252)/ret_vec.std() )"
   ]
  },
  {
   "cell_type": "code",
   "execution_count": 322,
   "metadata": {
    "collapsed": false
   },
   "outputs": [
    {
     "data": {
      "text/plain": [
       "<matplotlib.axes._subplots.AxesSubplot at 0x1330b9198>"
      ]
     },
     "execution_count": 322,
     "metadata": {},
     "output_type": "execute_result"
    },
    {
     "data": {
      "image/png": "[encoded data removed]",
      "text/plain": [
       "<matplotlib.figure.Figure at 0x132e2ac88>"
      ]
     },
     "metadata": {},
     "output_type": "display_data"
    }
   ],
   "source": [
    "(1+ret_vec).cumprod().plot()"
   ]
  },
  {
   "cell_type": "code",
   "execution_count": 276,
   "metadata": {
    "collapsed": false
   },
   "outputs": [
    {
     "data": {
      "text/plain": [
       "<matplotlib.axes._subplots.AxesSubplot at 0x13072e9b0>"
      ]
     },
     "execution_count": 276,
     "metadata": {},
     "output_type": "execute_result"
    },
    {
     "data": {
      "image/png": "[encoded data removed]",
      "text/plain": [
       "<matplotlib.figure.Figure at 0x1306b97b8>"
      ]
     },
     "metadata": {},
     "output_type": "display_data"
    }
   ],
   "source": []
  },
  {
   "cell_type": "code",
   "execution_count": 212,
   "metadata": {
    "collapsed": false
   },
   "outputs": [
    {
     "data": {
      "text/plain": [
       "(2295, 5, 5)"
      ]
     },
     "execution_count": 212,
     "metadata": {},
     "output_type": "execute_result"
    }
   ],
   "source": [
    "x.shape"
   ]
  },
  {
   "cell_type": "code",
   "execution_count": 216,
   "metadata": {
    "collapsed": false
   },
   "outputs": [
    {
     "data": {
      "text/html": [
       "<div>\n",
       "<table border=\"1\" class=\"dataframe\">\n",
       "  <thead>\n",
       "    <tr style=\"text-align: right;\">\n",
       "      <th></th>\n",
       "      <th>0</th>\n",
       "      <th>1</th>\n",
       "      <th>2</th>\n",
       "      <th>3</th>\n",
       "      <th>4</th>\n",
       "    </tr>\n",
       "  </thead>\n",
       "  <tbody>\n",
       "    <tr>\n",
       "      <th>0</th>\n",
       "      <td>0.001178</td>\n",
       "      <td>0.001009</td>\n",
       "      <td>0.000854</td>\n",
       "      <td>0.000735</td>\n",
       "      <td>0.000316</td>\n",
       "    </tr>\n",
       "    <tr>\n",
       "      <th>1</th>\n",
       "      <td>0.001009</td>\n",
       "      <td>0.000901</td>\n",
       "      <td>0.000764</td>\n",
       "      <td>0.000656</td>\n",
       "      <td>0.000309</td>\n",
       "    </tr>\n",
       "    <tr>\n",
       "      <th>2</th>\n",
       "      <td>0.000854</td>\n",
       "      <td>0.000764</td>\n",
       "      <td>0.000664</td>\n",
       "      <td>0.000577</td>\n",
       "      <td>0.000286</td>\n",
       "    </tr>\n",
       "    <tr>\n",
       "      <th>3</th>\n",
       "      <td>0.000735</td>\n",
       "      <td>0.000656</td>\n",
       "      <td>0.000577</td>\n",
       "      <td>0.000521</td>\n",
       "      <td>0.000294</td>\n",
       "    </tr>\n",
       "    <tr>\n",
       "      <th>4</th>\n",
       "      <td>0.000316</td>\n",
       "      <td>0.000309</td>\n",
       "      <td>0.000286</td>\n",
       "      <td>0.000294</td>\n",
       "      <td>0.003609</td>\n",
       "    </tr>\n",
       "  </tbody>\n",
       "</table>\n",
       "</div>"
      ],
      "text/plain": [
       "          0         1         2         3         4\n",
       "0  0.001178  0.001009  0.000854  0.000735  0.000316\n",
       "1  0.001009  0.000901  0.000764  0.000656  0.000309\n",
       "2  0.000854  0.000764  0.000664  0.000577  0.000286\n",
       "3  0.000735  0.000656  0.000577  0.000521  0.000294\n",
       "4  0.000316  0.000309  0.000286  0.000294  0.003609"
      ]
     },
     "execution_count": 216,
     "metadata": {},
     "output_type": "execute_result"
    }
   ],
   "source": [
    "x.iloc[100,:,:]"
   ]
  },
  {
   "cell_type": "code",
   "execution_count": 224,
   "metadata": {
    "collapsed": false
   },
   "outputs": [
    {
     "data": {
      "text/html": [
       "<div>\n",
       "<table border=\"1\" class=\"dataframe\">\n",
       "  <thead>\n",
       "    <tr style=\"text-align: right;\">\n",
       "      <th></th>\n",
       "    </tr>\n",
       "  </thead>\n",
       "  <tbody>\n",
       "  </tbody>\n",
       "</table>\n",
       "</div>"
      ],
      "text/plain": [
       "Empty DataFrame\n",
       "Columns: []\n",
       "Index: []"
      ]
     },
     "execution_count": 224,
     "metadata": {},
     "output_type": "execute_result"
    }
   ],
   "source": [
    "vm.const_fut_carry_df"
   ]
  },
  {
   "cell_type": "code",
   "execution_count": null,
   "metadata": {
    "collapsed": true
   },
   "outputs": [],
   "source": []
  }
 ],
 "metadata": {
  "kernelspec": {
   "display_name": "Python [anaconda]",
   "language": "python",
   "name": "Python [anaconda]"
  },
  "language_info": {
   "codemirror_mode": {
    "name": "ipython",
    "version": 3
   },
   "file_extension": ".py",
   "mimetype": "text/x-python",
   "name": "python",
   "nbconvert_exporter": "python",
   "pygments_lexer": "ipython3",
   "version": "3.5.2"
  }
 },
 "nbformat": 4,
 "nbformat_minor": 0
}
