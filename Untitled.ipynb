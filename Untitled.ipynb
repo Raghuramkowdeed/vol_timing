{
 "cells": [
  {
   "cell_type": "code",
   "execution_count": 1,
   "metadata": {
    "collapsed": false
   },
   "outputs": [
    {
     "name": "stdout",
     "output_type": "stream",
     "text": [
      "Populating the interactive namespace from numpy and matplotlib\n"
     ]
    }
   ],
   "source": [
    "import pandas as pd\n",
    "import numpy as np\n",
    "import datetime as dt\n",
    "import dateutil\n",
    "import os as os\n",
    "%pylab inline"
   ]
  },
  {
   "cell_type": "code",
   "execution_count": 206,
   "metadata": {
    "collapsed": false
   },
   "outputs": [],
   "source": [
    "exec(open(\"./vix_manager.py\").read())"
   ]
  },
  {
   "cell_type": "code",
   "execution_count": null,
   "metadata": {
    "collapsed": false
   },
   "outputs": [],
   "source": [
    "vm = VixManager(fut_data_dir='../data/vix_data/fut/', index_file='../data/vix_data/vix_index.csv')"
   ]
  },
  {
   "cell_type": "code",
   "execution_count": null,
   "metadata": {
    "collapsed": false
   },
   "outputs": [],
   "source": [
    "start_date  = dt.datetime.strptime( '2009-01-01' ,'%Y-%m-%d')\n",
    "end_date  = dt.datetime.strptime( '2018-02-13' ,'%Y-%m-%d')\n",
    "vm.set_const_fut_data(start_date, end_date, cov_hl = 60, num_fut=6)"
   ]
  },
  {
   "cell_type": "code",
   "execution_count": null,
   "metadata": {
    "collapsed": false
   },
   "outputs": [],
   "source": [
    "ret_vec = vm.get_const_w_ret( w= [-1.0,0.0,0.0,0.0,0.0], tc = 0.005, margin = 0.5 )\n",
    "(1+ret_vec).cumprod().plot()\n",
    "print( ret_vec.mean()*sqrt(252)/ret_vec.std() )"
   ]
  },
  {
   "cell_type": "code",
   "execution_count": null,
   "metadata": {
    "collapsed": false
   },
   "outputs": [],
   "source": [
    "ret_vec = vm.get_best_sharpe_w_ret(   tc = 0.0005, margin = 0.3)\n",
    "(1+ret_vec).cumprod().plot()\n",
    "print( ret_vec.mean()*sqrt(252)/ret_vec.std() )"
   ]
  },
  {
   "cell_type": "code",
   "execution_count": null,
   "metadata": {
    "collapsed": false
   },
   "outputs": [],
   "source": [
    "ret_vec = vm.get_zero_beta_w_ret(   tc = 0.0005, margin = 0.3)\n",
    "(1+ret_vec).cumprod().plot()\n",
    "print( ret_vec.mean()*sqrt(252)/ret_vec.std() )"
   ]
  },
  {
   "cell_type": "code",
   "execution_count": null,
   "metadata": {
    "collapsed": false
   },
   "outputs": [],
   "source": [
    "ret_vec = vm.get_zero_carry_w_ret(   tc = 0.0005, margin = 0.3)\n",
    "(1+ret_vec).cumprod().plot()\n",
    "print( ret_vec.mean()*sqrt(252)/ret_vec.std() )"
   ]
  },
  {
   "cell_type": "code",
   "execution_count": null,
   "metadata": {
    "collapsed": true
   },
   "outputs": [],
   "source": []
  }
 ],
 "metadata": {
  "anaconda-cloud": {},
  "kernelspec": {
   "display_name": "Python [anaconda]",
   "language": "python",
   "name": "Python [anaconda]"
  },
  "language_info": {
   "codemirror_mode": {
    "name": "ipython",
    "version": 3
   },
   "file_extension": ".py",
   "mimetype": "text/x-python",
   "name": "python",
   "nbconvert_exporter": "python",
   "pygments_lexer": "ipython3",
   "version": "3.5.2"
  }
 },
 "nbformat": 4,
 "nbformat_minor": 0
}
